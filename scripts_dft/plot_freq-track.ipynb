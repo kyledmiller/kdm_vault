{
 "cells": [
  {
   "cell_type": "code",
   "execution_count": 4,
   "metadata": {},
   "outputs": [],
   "source": [
    "# import pymatgen\n",
    "# from pymatgen.core.composition import Composition as pmcomp\n",
    "# from pymatgen.core.structure import Structure as pmstruc\n",
    "import pandas as pd\n",
    "import matplotlib.pyplot as plt\n",
    "import numpy as np"
   ]
  },
  {
   "cell_type": "code",
   "execution_count": 5,
   "metadata": {},
   "outputs": [
    {
     "name": "stdout",
     "output_type": "stream",
     "text": [
      "Index(['d', 'G-alt-dimer', 'G-dimer'], dtype='object')\n"
     ]
    },
    {
     "data": {
      "text/html": [
       "<div>\n",
       "<style scoped>\n",
       "    .dataframe tbody tr th:only-of-type {\n",
       "        vertical-align: middle;\n",
       "    }\n",
       "\n",
       "    .dataframe tbody tr th {\n",
       "        vertical-align: top;\n",
       "    }\n",
       "\n",
       "    .dataframe thead th {\n",
       "        text-align: right;\n",
       "    }\n",
       "</style>\n",
       "<table border=\"1\" class=\"dataframe\">\n",
       "  <thead>\n",
       "    <tr style=\"text-align: right;\">\n",
       "      <th></th>\n",
       "      <th>d</th>\n",
       "      <th>G-alt-dimer</th>\n",
       "      <th>G-dimer</th>\n",
       "    </tr>\n",
       "  </thead>\n",
       "  <tbody>\n",
       "    <tr>\n",
       "      <th>0</th>\n",
       "      <td>0.00</td>\n",
       "      <td>6.10</td>\n",
       "      <td>7.10</td>\n",
       "    </tr>\n",
       "    <tr>\n",
       "      <th>1</th>\n",
       "      <td>0.25</td>\n",
       "      <td>7.10</td>\n",
       "      <td>7.10</td>\n",
       "    </tr>\n",
       "    <tr>\n",
       "      <th>2</th>\n",
       "      <td>0.50</td>\n",
       "      <td>5.29</td>\n",
       "      <td>6.55</td>\n",
       "    </tr>\n",
       "    <tr>\n",
       "      <th>3</th>\n",
       "      <td>0.65</td>\n",
       "      <td>-5.74</td>\n",
       "      <td>5.18</td>\n",
       "    </tr>\n",
       "    <tr>\n",
       "      <th>4</th>\n",
       "      <td>0.75</td>\n",
       "      <td>-7.19</td>\n",
       "      <td>5.16</td>\n",
       "    </tr>\n",
       "    <tr>\n",
       "      <th>5</th>\n",
       "      <td>1.00</td>\n",
       "      <td>5.35</td>\n",
       "      <td>5.49</td>\n",
       "    </tr>\n",
       "  </tbody>\n",
       "</table>\n",
       "</div>"
      ],
      "text/plain": [
       "      d  G-alt-dimer  G-dimer\n",
       "0  0.00         6.10     7.10\n",
       "1  0.25         7.10     7.10\n",
       "2  0.50         5.29     6.55\n",
       "3  0.65        -5.74     5.18\n",
       "4  0.75        -7.19     5.16\n",
       "5  1.00         5.35     5.49"
      ]
     },
     "execution_count": 5,
     "metadata": {},
     "output_type": "execute_result"
    }
   ],
   "source": [
    "# Extracting data\n",
    "infile = \"freq.tsv\"\n",
    "\n",
    "df = pd.read_table(infile)\n",
    "print(df.keys())\n",
    "df"
   ]
  },
  {
   "cell_type": "code",
   "execution_count": 15,
   "metadata": {},
   "outputs": [
    {
     "data": {
      "image/png": "[encoded data removed]",
      "text/plain": [
       "<Figure size 432x252 with 1 Axes>"
      ]
     },
     "metadata": {
      "needs_background": "light"
     },
     "output_type": "display_data"
    }
   ],
   "source": [
    "### Plotting dimer modes ###\n",
    "WIDTH = 6\n",
    "HEIGHT = 3.5\n",
    "YLIMS = None\n",
    "XLIMS = [0,1]\n",
    "X_AXIS = 'Avg Ta $d$-state'\n",
    "Y_AXIS = 'Frequency (THz)'\n",
    "LABEL_FONT = 17\n",
    "\n",
    "fig = plt.figure(figsize=(WIDTH,HEIGHT))\n",
    "\n",
    "plt.plot(df['d'], df['G-alt-dimer'], label=\"$\\Gamma$ alt-dimer\")\n",
    "plt.scatter(df['d'], df['G-alt-dimer'],label=None)\n",
    "plt.plot(df['d'], df['G-dimer'], label=\"$\\Gamma$ dimer\")\n",
    "plt.scatter(df['d'], df['G-dimer'],label=None)\n",
    "plt.plot([0,1],[0,0],'k')\n",
    "\n",
    "# Chance font size\n",
    "plt.gca().xaxis.label.set_fontsize(LABEL_FONT)\n",
    "plt.gca().yaxis.label.set_fontsize(LABEL_FONT)\n",
    "plt.gca().tick_params(labelsize=LABEL_FONT)\n",
    "\n",
    "plt.grid(True)\n",
    "plt.xlabel(X_AXIS)\n",
    "plt.ylabel(Y_AXIS)\n",
    "plt.xlim(XLIMS)\n",
    "plt.ylim(YLIMS)\n",
    "plt.legend(fancybox=True, framealpha=0.5, fontsize=LABEL_FONT) \n",
    "\n",
    "plt.show()\n",
    "\n",
    "## Saving plot\n",
    "fig.savefig('freq-track' + '.png', bbox_inches='tight', dpi=500)\n",
    "fig.savefig('freq-track-vec' + '.pdf', bbox_inches='tight')"
   ]
  },
  {
   "cell_type": "code",
   "execution_count": null,
   "metadata": {},
   "outputs": [],
   "source": []
  }
 ],
 "metadata": {
  "kernelspec": {
   "display_name": "Python 3",
   "language": "python",
   "name": "python3"
  },
  "language_info": {
   "codemirror_mode": {
    "name": "ipython",
    "version": 3
   },
   "file_extension": ".py",
   "mimetype": "text/x-python",
   "name": "python",
   "nbconvert_exporter": "python",
   "pygments_lexer": "ipython3",
   "version": "3.7.2"
  }
 },
 "nbformat": 4,
 "nbformat_minor": 2
}
