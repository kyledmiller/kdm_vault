{
 "cells": [
  {
   "cell_type": "code",
   "execution_count": 1,
   "metadata": {},
   "outputs": [],
   "source": [
    "import pymatgen as pmg\n",
    "from pymatgen.io.vasp.outputs import Vasprun\n",
    "from pymatgen.electronic_structure.plotter import DosPlotter\n",
    "from pymatgen.core.periodic_table import Element\n",
    "from matplotlib.pyplot import figure"
   ]
  },
  {
   "cell_type": "code",
   "execution_count": 2,
   "metadata": {},
   "outputs": [],
   "source": [
    "import matplotlib.pyplot as pyplot\n",
    "from scipy.integrate import trapz, simps\n",
    "\n",
    "def integrate(axis, start, end):\n",
    "    \"\"\"Integrates the given DoS data\"\"\"\n",
    "    d_line = axis.get_lines()[1]\n",
    "    x = d_line.get_xdata()[start:end]\n",
    "    y = d_line.get_ydata()[start:end]\n",
    "    pyplot.plot(x,y)\n",
    "    return(simps(y,x))"
   ]
  },
  {
   "cell_type": "code",
   "execution_count": 1,
   "metadata": {
    "scrolled": false
   },
   "outputs": [
    {
     "ename": "NameError",
     "evalue": "name 'Vasprun' is not defined",
     "output_type": "error",
     "traceback": [
      "\u001b[0;31m---------------------------------------------------------------------------\u001b[0m",
      "\u001b[0;31mNameError\u001b[0m                                 Traceback (most recent call last)",
      "\u001b[0;32m<ipython-input-1-c7692b46b4d6>\u001b[0m in \u001b[0;36m<module>\u001b[0;34m()\u001b[0m\n\u001b[1;32m     16\u001b[0m \u001b[0;34m\u001b[0m\u001b[0m\n\u001b[1;32m     17\u001b[0m     \u001b[0;31m# Extract dos from vasprun\u001b[0m\u001b[0;34m\u001b[0m\u001b[0;34m\u001b[0m\u001b[0;34m\u001b[0m\u001b[0m\n\u001b[0;32m---> 18\u001b[0;31m     \u001b[0mvr\u001b[0m \u001b[0;34m=\u001b[0m \u001b[0mVasprun\u001b[0m\u001b[0;34m(\u001b[0m\u001b[0mPREFIX\u001b[0m \u001b[0;34m+\u001b[0m\u001b[0;34m'-'\u001b[0m\u001b[0;34m+\u001b[0m \u001b[0miter_1\u001b[0m \u001b[0;34m+\u001b[0m \u001b[0mSUFFIX\u001b[0m\u001b[0;34m)\u001b[0m\u001b[0;34m\u001b[0m\u001b[0;34m\u001b[0m\u001b[0m\n\u001b[0m\u001b[1;32m     19\u001b[0m     \u001b[0mcdos\u001b[0m \u001b[0;34m=\u001b[0m \u001b[0mvr\u001b[0m\u001b[0;34m.\u001b[0m\u001b[0mcomplete_dos\u001b[0m\u001b[0;34m\u001b[0m\u001b[0;34m\u001b[0m\u001b[0m\n\u001b[1;32m     20\u001b[0m     \u001b[0mtdos\u001b[0m \u001b[0;34m=\u001b[0m \u001b[0mvr\u001b[0m\u001b[0;34m.\u001b[0m\u001b[0mtdos\u001b[0m\u001b[0;34m\u001b[0m\u001b[0;34m\u001b[0m\u001b[0m\n",
      "\u001b[0;31mNameError\u001b[0m: name 'Vasprun' is not defined"
     ]
    }
   ],
   "source": [
    "WIDTH = 8\n",
    "HEIGHT = 5\n",
    "ELEMENTS = [\"Ta\", \"O\"]\n",
    "PREFIX = \"../../elec_dos/vasprun\"\n",
    "SUFFIX = \".xml\"\n",
    "ITERS_1 = [\"d0\", \"d025\", \"d05\", \"d055\", \"d06\", \"d065\", \"d07\", \"d075\", \"d08\", \"d085\", \"d09\", \"d095\", \"d1\"]\n",
    "LABELS = ['$d^{0}$','$d^{0.25}$','$d^{0.5}$','$d^{0.55}$','$d^{0.6}$','$d^{0.65}$','$d^{0.7}$',\n",
    "                 '$d^{0.75}$','$d^{0.8}$','$d^{0.85}$','$d^{0.9}$','$d^{0.95}$','$d^{1}$']\n",
    "LABEL_PREFIX = \"Ta$_{{avg}}$\"\n",
    "XLIMS = [[2,7]] + [[-1,4]]*12\n",
    "YLIMS = [-14,14]*12\n",
    "LABEL_FONT = 30\n",
    "\n",
    "axes = []\n",
    "\n",
    "for i, iter_1 in enumerate(ITERS_1):\n",
    "        \n",
    "    # Extract dos from vasprun\n",
    "    vr = Vasprun(PREFIX +'-'+ iter_1 + SUFFIX)\n",
    "    cdos = vr.complete_dos\n",
    "    tdos = vr.tdos\n",
    "    elem_doss = cdos.get_element_dos()\n",
    "    dplt = DosPlotter()\n",
    "\n",
    "    # Add total dos\n",
    "    dplt.add_dos(\"tot\", tdos)\n",
    "\n",
    "    # Add dos for each element\n",
    "    for elem in ELEMENTS:\n",
    "        dplt.add_dos(elem, elem_doss[Element(elem)])\n",
    "\n",
    "    # Customize plot\n",
    "    dos_plot = dplt.get_plot()\n",
    "    dos_plot.xlim(XLIMS[i])\n",
    "    dos_plot.ylim(YLIMS[i])\n",
    "    dos_plot.grid(1)\n",
    "\n",
    "        # Make total line grey and filled in\n",
    "    totLine = dos_plot.gca().get_lines()[2]\n",
    "    totLine.set_color('silver')\n",
    "\n",
    "    dos_plot.legend([\"O-p\", \"Ta-d\", \"Tot\"],loc='upper right', ncol=3, fontsize=21) #keep line thick in legend\n",
    "\n",
    "    totLine.set_linewidth(1)   \n",
    "\n",
    "    totX = totLine.get_xdata()\n",
    "    totY = totLine.get_ydata()\n",
    "\n",
    "    dos_plot.fill_between(totX, totY, where=totY>=-totY, interpolate=True, color='silver')\n",
    "    dos_plot.fill_between(totX, totY, where=totY<=-totY, interpolate=True, color='silver')\n",
    "\n",
    "\n",
    "        # Add a U, doping label to bottom right\n",
    "    dos_plot.text(XLIMS[i][0]+0.1, YLIMS[i][0]+1.2, LABEL_PREFIX + f\"{LABELS[i]}\", fontsize=LABEL_FONT)\n",
    "\n",
    "        # Chance font size\n",
    "    dos_plot.gca().xaxis.label.set_fontsize(LABEL_FONT)\n",
    "    dos_plot.gca().yaxis.label.set_fontsize(LABEL_FONT)\n",
    "#         dos_plot.gca().get_xticklabels().set_fontsize(LABEL_FONT)\n",
    "#         dos_plot.gca().get_yticklabels().set_fontsize(LABEL_FONT)\n",
    "\n",
    "        # Add axes to persistent list\n",
    "    axes.append(dos_plot.gca())\n",
    "\n",
    "\n",
    "        # Resize/reshape\n",
    "    fig = dos_plot.gcf()\n",
    "    fig.set_size_inches(WIDTH,HEIGHT)\n",
    "\n",
    "    # Show and save\n",
    "    dos_plot.tight_layout()\n",
    "    dos_plot.show()\n",
    "    fig.savefig(f\"elec_dos-{iter_1}\", img_format=\"png\", dpi=300)\n",
    "    fig.savefig(f\"elec_dos-vec-{iter_1}.pdf\", img_format=\"pdf\")\n",
    "\n"
   ]
  },
  {
   "cell_type": "code",
   "execution_count": 4,
   "metadata": {},
   "outputs": [
    {
     "name": "stdout",
     "output_type": "stream",
     "text": [
      "d1 - 1.2966879032258065\n",
      "d065 - 1.2863366946236567\n"
     ]
    },
    {
     "data": {
      "image/png": "[encoded data removed]",
      "text/plain": [
       "<Figure size 432x288 with 1 Axes>"
      ]
     },
     "metadata": {
      "needs_background": "light"
     },
     "output_type": "display_data"
    }
   ],
   "source": [
    "start = 1150\n",
    "end = 1220\n",
    "\n",
    "print(f'd1 - {integrate(axes[-1], start, end)}')\n",
    "print(f'd065 - {integrate(axes[5], 1250, 1350)}')\n"
   ]
  },
  {
   "cell_type": "code",
   "execution_count": 15,
   "metadata": {},
   "outputs": [
    {
     "data": {
      "text/plain": [
       "1102"
      ]
     },
     "execution_count": 15,
     "metadata": {},
     "output_type": "execute_result"
    }
   ],
   "source": [
    "6002-4900"
   ]
  },
  {
   "cell_type": "code",
   "execution_count": null,
   "metadata": {},
   "outputs": [],
   "source": []
  }
 ],
 "metadata": {
  "kernelspec": {
   "display_name": "Python 3",
   "language": "python",
   "name": "python3"
  },
  "language_info": {
   "codemirror_mode": {
    "name": "ipython",
    "version": 3
   },
   "file_extension": ".py",
   "mimetype": "text/x-python",
   "name": "python",
   "nbconvert_exporter": "python",
   "pygments_lexer": "ipython3",
   "version": "3.7.4"
  }
 },
 "nbformat": 4,
 "nbformat_minor": 2
}
