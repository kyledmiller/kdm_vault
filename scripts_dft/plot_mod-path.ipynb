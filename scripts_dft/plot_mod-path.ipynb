{
 "cells": [
  {
   "cell_type": "code",
   "execution_count": 4,
   "metadata": {},
   "outputs": [],
   "source": [
    "import pandas as pd\n",
    "import matplotlib.pyplot as plt\n",
    "import numpy as np\n",
    "from lmfit import Model\n",
    "\n",
    "from os.path import expanduser\n",
    "home = expanduser('~')\n",
    "\n",
    "def func(x, a, b, c, d):\n",
    "    return a + b * x + c * x ** 2 + d * x ** 3"
   ]
  },
  {
   "cell_type": "code",
   "execution_count": 19,
   "metadata": {},
   "outputs": [],
   "source": [
    "def plot_path(stat_file, amplitudes, width, height, label, upper_bound=None, lower_bound=None, \n",
    "              xmax=None):\n",
    "\n",
    "    X_AXIS = '$\\\\alpha$'\n",
    "    Y_AXIS = '$\\Delta$E (meV/atom)'\n",
    "    LABEL_FONT = 17\n",
    "    \n",
    "    df = pd.read_table(stat_file)\n",
    "    print(df.keys())\n",
    "\n",
    "    df['de'] = (df['energy']-df['energy'][lower_bound])*1000/32\n",
    "    disp = np.array(amplitudes)\n",
    "    df['disp'] = disp/9\n",
    "\n",
    "    ## Remove certain rows\n",
    "    # df = df.drop([1], axis=0)\n",
    "\n",
    "    YLIMS = [None, None]\n",
    "    XLIMS = [0   , None]\n",
    "\n",
    "    fig = plt.figure(figsize=(width,height))\n",
    "\n",
    "\n",
    "    for kpt in ['']:#, 'R', 'X', 'Z', 'GG']:\n",
    "        sub_df = df #[df.kpoint == kpt]\n",
    "        x = sub_df['disp'].to_numpy()[lower_bound:upper_bound]\n",
    "        y = sub_df['de'].to_numpy()[lower_bound:upper_bound]\n",
    "        plt.scatter(x, y, color='k', clip_on=False)\n",
    "\n",
    "        # Fitting to Landau model\n",
    "        def landau(x, a, b, c):\n",
    "            return a*x**2 + b*x**4 + c*x**6\n",
    "\n",
    "        pmodel = Model(landau)\n",
    "        params = pmodel.make_params(a=-1,b=1, c=1)\n",
    "        result = pmodel.fit(y, params, x=x)\n",
    "        #print(result.fit_report())\n",
    "\n",
    "        if xmax:\n",
    "            x2 = np.linspace(0, xmax, 100)\n",
    "        else:\n",
    "            x2 = np.linspace(0, x.max(), 100)\n",
    "        y2 = result.eval(x=x2)\n",
    "\n",
    "#         plt.plot(x2, y2, 'k-', label='Landau fit')\n",
    "\n",
    "    # Chance font size\n",
    "    plt.gca().xaxis.label.set_fontsize(LABEL_FONT)\n",
    "    plt.gca().yaxis.label.set_fontsize(LABEL_FONT)\n",
    "    plt.gca().tick_params(labelsize=LABEL_FONT)\n",
    "    # plt.gca().get_yticklabels().fontsize(LABEL_FONT)\n",
    "\n",
    "    plt.gca().set_axisbelow(True)\n",
    "    plt.grid(True)\n",
    "    plt.xlabel(X_AXIS)\n",
    "    plt.ylabel(Y_AXIS)\n",
    "    if xmax:\n",
    "        plt.xlim((0, xmax))\n",
    "    else:\n",
    "        plt.xlim((0, max(x)))\n",
    "    plt.ylim(YLIMS)\n",
    "#     plt.legend(fancybox=True, ncol=2, framealpha=0.5, fontsize=LABEL_FONT, loc='lower left')#, loc='lower right') \n",
    "    # plt.text(0.99, 0.12, \"$U_{eff}$ = 3 eV\", horizontalalignment='right', verticalalignment='top',\\\n",
    "    #          transform=plt.gca().transAxes,fontsize=LABEL_FONT+2)\n",
    "    plt.axhline(y=0, color='k', linewidth=0.5)\n",
    "    plt.show()\n",
    "\n",
    "    ## Saving plot\n",
    "    fig.savefig(f'mod-path-{label}' + '.png', bbox_inches='tight', dpi=500)\n",
    "#     fig.savefig(f'mod-path-{label}-vec' + '.pdf', bbox_inches='tight')"
   ]
  },
  {
   "cell_type": "code",
   "execution_count": 20,
   "metadata": {},
   "outputs": [
    {
     "name": "stdout",
     "output_type": "stream",
     "text": [
      "Index(['run_id', 'energy', 'volume', 'mag_s', 'mag_p', 'mag_d', 'mag_tot',\n",
      "       'point_group', 'lattice'],\n",
      "      dtype='object')\n"
     ]
    },
    {
     "data": {
      "image/png": "[encoded data removed]",
      "text/plain": [
       "<Figure size 360x360 with 1 Axes>"
      ]
     },
     "metadata": {
      "needs_background": "light"
     },
     "output_type": "display_data"
    },
    {
     "name": "stdout",
     "output_type": "stream",
     "text": [
      "Index(['run_id', 'energy', 'volume', 'mag_s', 'mag_p', 'mag_d', 'mag_tot',\n",
      "       'point_group', 'lattice'],\n",
      "      dtype='object')\n"
     ]
    },
    {
     "data": {
      "image/png": "[encoded data removed]",
      "text/plain": [
       "<Figure size 468x216 with 1 Axes>"
      ]
     },
     "metadata": {
      "needs_background": "light"
     },
     "output_type": "display_data"
    }
   ],
   "source": [
    "### Ground state surface\n",
    "infile = home + '/Projects/BaCoS2/correct_mag/M4-path-estruc/stats.tsv'\n",
    "amplitudes = np.arange(0,19) \n",
    "bounds=[0,18]\n",
    "plot_path(infile, amplitudes, width=5, height=5, label='M4-interp', \n",
    "          lower_bound=bounds[0], upper_bound=bounds[1])\n",
    "plot_path(infile, amplitudes, width=6.5, height=3, label='M4-interp-wide', \n",
    "          lower_bound=bounds[0], upper_bound=bounds[1])"
   ]
  },
  {
   "cell_type": "code",
   "execution_count": null,
   "metadata": {},
   "outputs": [],
   "source": []
  }
 ],
 "metadata": {
  "kernelspec": {
   "display_name": "Python 3",
   "language": "python",
   "name": "python3"
  },
  "language_info": {
   "codemirror_mode": {
    "name": "ipython",
    "version": 3
   },
   "file_extension": ".py",
   "mimetype": "text/x-python",
   "name": "python",
   "nbconvert_exporter": "python",
   "pygments_lexer": "ipython3",
   "version": "3.7.7"
  }
 },
 "nbformat": 4,
 "nbformat_minor": 2
}
