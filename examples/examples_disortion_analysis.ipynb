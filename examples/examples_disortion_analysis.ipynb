{
 "cells": [
  {
   "cell_type": "code",
   "execution_count": null,
   "metadata": {},
   "outputs": [],
   "source": [
    "from pymatgen.core import Structure\n",
    "from workflow_utils import *\n",
    "from distortion_analysis import *"
   ]
  },
  {
   "cell_type": "markdown",
   "metadata": {},
   "source": [
    "## Extract modes info (irreps, symmetry)"
   ]
  },
  {
   "cell_type": "code",
   "execution_count": null,
   "metadata": {},
   "outputs": [],
   "source": [
    "subdir = 'data/phon'\n",
    "irreps_file = 'irreps_std.yaml'\n",
    "df = parse_irreps(subdir, irreps_file, dim_str='2 2 2', kpt='0 0 0')\n",
    "df"
   ]
  },
  {
   "cell_type": "markdown",
   "metadata": {},
   "source": [
    "## Generate modulated structures"
   ]
  },
  {
   "cell_type": "code",
   "execution_count": null,
   "metadata": {},
   "outputs": [],
   "source": [
    "subdir = 'data/phon'\n",
    "irreps_file = 'irreps_std.yaml'\n",
    "\n",
    "### Define the dimensions of the modulation\n",
    "### NB: The gen_mod_strucs() function converts to primitive so these dimensions can be larger than needed but they could be, for example 1,1,1 if you're only modulating G-pt modes\n",
    "moddims = [2,2,2]\n",
    "\n",
    "### Detail the kpoints, indices, and displacements of modes you want to modulate \n",
    "label_ls = [['G'],['G'],['X'],['Z'],['Z'],['G','G'],['Z','Z']]\n",
    "indices_ls = [[1],[2],[1],[1],[2],[1,2],[1,2]]\n",
    "disps_ls = [[1 for label in labels] for labels in label_ls]\n",
    "\n",
    "### Syntactic sugar for defining the kpoints/labels for this structure\n",
    "kpts_dict = {'G':'0 0 0', 'X':'0.5 0 0', 'Z':'0.5 0.5 -0.5'}\n",
    "kpts_ls = [[kpts_dict[label] for label in labels] for labels in label_ls]\n",
    "\n",
    "### Detail the locations of your phonon calculation directories\n",
    "phon_dirs = glob.glob('data/phon')\n",
    "print(phon_dirs)\n",
    "phon_dirs = [os.path.abspath(p) for p in phon_dirs]\n",
    "\n",
    "### For each phonon directory, generate the modulated structures\n",
    "for phon_dir in phon_dirs:\n",
    "    ### Modulate structures for each desired mode\n",
    "    for i in range(len(label_ls)):\n",
    "        struc, path = gen_mod_struc(phon_dir, label_ls[i], kpts_ls[i], indices_ls[i], disps_ls[i], moddims)\n",
    "        print(path)\n",
    "        print(struc)\n",
    "        os.makedirs(f'{path}/processed_strucs', exist_ok=True)\n",
    "        struc.to(f'{path}/processed_strucs/MPOSCAR.vasp', 'poscar')"
   ]
  },
  {
   "cell_type": "markdown",
   "metadata": {},
   "source": [
    "## Generate interpolations between distorted structures\n"
   ]
  },
  {
   "cell_type": "code",
   "execution_count": null,
   "metadata": {},
   "outputs": [],
   "source": [
    "subdir = 'data/phon'\n",
    "irreps_file = 'irreps_std.yaml'\n",
    "\n",
    "### Define the dimensions of the modulation\n",
    "### NB: The gen_mod_strucs() function converts to primitive so these dimensions can be larger than needed but they could be, for example 1,1,1 if you're only modulating G-pt modes\n",
    "moddims = [2,2,2]\n",
    "\n",
    "### Detail the kpoints, indices, and displacements of modes you want to modulate \n",
    "label_ls = [['G'],['G'],['X'],['Z'],['Z'],['G','G'],['Z','Z']]\n",
    "indices_ls = [[1],[2],[1],[1],[2],[1,2],[1,2]]\n",
    "disps_ls = [[1 for label in labels] for labels in label_ls]\n",
    "\n",
    "### Syntactic sugar for defining the kpoints/labels for this structure\n",
    "kpts_dict = {'G':'0 0 0', 'X':'0.5 0 0', 'Z':'0.5 0.5 -0.5'}\n",
    "kpts_ls = [[kpts_dict[label] for label in labels] for labels in label_ls]\n",
    "\n",
    "### Detail the locations of your phonon calculation directories\n",
    "phon_dirs = glob.glob('data/phon')\n",
    "print(phon_dirs)\n",
    "phon_dirs = [os.path.abspath(p) for p in phon_dirs]\n",
    "\n",
    "### For each phonon directory, generate the modulated structures\n",
    "for phon_dir in phon_dirs:\n",
    "    ### Modulate structures for each desired mode\n",
    "    for i in range(len(label_ls)):\n",
    "        struc, path = gen_mod_struc(phon_dir, label_ls[i], kpts_ls[i], indices_ls[i], disps_ls[i], moddims)\n",
    "        print(path)\n",
    "        print(struc)\n",
    "        os.makedirs(f'{path}/processed_strucs', exist_ok=True)\n",
    "        struc.to(f'{path}/processed_strucs/MPOSCAR.vasp', 'poscar')"
   ]
  },
  {
   "cell_type": "markdown",
   "metadata": {},
   "source": [
    "## Generate a -P-distorted structure from a centrosymmetric and +P-distorted structure"
   ]
  },
  {
   "cell_type": "code",
   "execution_count": null,
   "metadata": {},
   "outputs": [],
   "source": [
    "### Import and sortstructures\n",
    "\n",
    "centro = Structure.from_file('data/struc_centro.vasp')\n",
    "centro = sort_sites(centro)\n",
    "print(centro)\n",
    "\n",
    "p = Structure.from_file('data/struc_plusP.vasp')\n",
    "p = sort_sites(p)\n",
    "print(p)"
   ]
  },
  {
   "cell_type": "code",
   "execution_count": null,
   "metadata": {},
   "outputs": [],
   "source": [
    "### Examine difference between structures to check for errors\n",
    "print('+P distortions')\n",
    "print(centro.frac_coords - p.frac_coords)"
   ]
  },
  {
   "cell_type": "code",
   "execution_count": null,
   "metadata": {},
   "outputs": [],
   "source": [
    "### Generate the mirror image, check that differences are opposite of plusP\n",
    "_, minusP = centro.interpolate(p, end_amplitude=-1, nimages=1)\n",
    "print('-P distortions')\n",
    "print(centro.frac_coords - minusP.frac_coords)\n",
    "print('\\n-P + +P = 0')\n",
    "print((centro.frac_coords - minusP.frac_coords) + (centro.frac_coords - p.frac_coords))\n",
    "### Save the -P structure\n",
    "minusP.to_file(filename='data/struc_minusP.vasp', fmt='poscar')"
   ]
  },
  {
   "cell_type": "code",
   "execution_count": null,
   "metadata": {},
   "outputs": [],
   "source": []
  }
 ],
 "metadata": {
  "kernelspec": {
   "display_name": "pmg",
   "language": "python",
   "name": "python3"
  },
  "language_info": {
   "codemirror_mode": {
    "name": "ipython",
    "version": 3
   },
   "file_extension": ".py",
   "mimetype": "text/x-python",
   "name": "python",
   "nbconvert_exporter": "python",
   "pygments_lexer": "ipython3",
   "version": "3.10.10"
  }
 },
 "nbformat": 4,
 "nbformat_minor": 2
}
